{
 "cells": [
  {
   "cell_type": "markdown",
   "metadata": {},
   "source": [
    "# Style weight profiles overview\n",
    "Эта заметка демонстрирует, как таблица профилей весов влияет на итоговую style-метрику."
   ]
  },
  {
   "cell_type": "code",
   "execution_count": null,
   "metadata": {},
   "outputs": [],
   "source": [
    "from pathlib import Path\n",
    "import json\n",
    "\n",
    "from imagen_lab.scoring.weights_table import StyleMixer, WeightProfileTable\n",
    "\n",
    "profiles = WeightProfileTable.load(Path('imagen_lab/scoring/weight_profiles.yaml'))\n",
    "components = {\"clip\": 0.82, \"spec\": 0.68, \"illu\": 0.55}\n",
    "snapshots = []\n",
    "for name in profiles.profile_names():\n",
    "    weights = profiles.get_profile(name)\n",
    "    mixer = StyleMixer(weights=weights)\n",
    "    composition = mixer.compose(components['clip'], components['spec'], components['illu'])\n",
    "    snapshots.append({\n",
    "        'profile': name,\n",
    "        'weights': weights,\n",
    "        'aggregate': round(composition.total, 4),\n",
    "        'contributions': {k: round(v, 4) for k, v in composition.contributions.items()}\n",
    "    })\n",
    "\n",
    "print(json.dumps({\n",
    "    'components': components,\n",
    "    'profiles': snapshots\n",
    "}, ensure_ascii=False, indent=2))"
   ]
  }
 ],
 "metadata": {
  "kernelspec": {
   "display_name": "Python 3",
   "language": "python",
   "name": "python3"
  },
  "language_info": {
   "name": "python",
   "version": "3.10"
  }
 },
 "nbformat": 4,
 "nbformat_minor": 5
}
