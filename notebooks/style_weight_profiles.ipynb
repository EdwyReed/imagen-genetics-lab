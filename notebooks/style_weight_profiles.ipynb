{
 "cells": [
  {
   "cell_type": "markdown",
   "metadata": {},
   "source": [
    "# Style weight profiles overview\n",
    "Эта заметка демонстрирует, как таблица профилей весов влияет на итоговую style-метрику."
   ],
   "id": "fabb47bafbadef33"
  },
  {
   "cell_type": "code",
   "metadata": {
    "ExecuteTime": {
     "end_time": "2025-10-18T14:09:19.663716Z",
     "start_time": "2025-10-18T14:09:10.489041Z"
    }
   },
   "source": [
    "from pathlib import Path\n",
    "import json\n",
    "\n",
    "from imagen_lab.scoring.weights_table import StyleMixer, WeightProfileTable\n",
    "\n",
    "profiles = WeightProfileTable.load(Path('imagen_lab/scoring/weight_profiles.yaml'))\n",
    "components = {\"clip\": 0.82, \"spec\": 0.68, \"illu\": 0.55}\n",
    "snapshots = []\n",
    "for name in profiles.profile_names():\n",
    "    weights = profiles.get_profile(name)\n",
    "    mixer = StyleMixer(weights=weights)\n",
    "    composition = mixer.compose(components['clip'], components['spec'], components['illu'])\n",
    "    snapshots.append({\n",
    "        'profile': name,\n",
    "        'weights': weights,\n",
    "        'aggregate': round(composition.total, 4),\n",
    "        'contributions': {k: round(v, 4) for k, v in composition.contributions.items()}\n",
    "    })\n",
    "\n",
    "print(json.dumps({\n",
    "    'components': components,\n",
    "    'profiles': snapshots\n",
    "}, ensure_ascii=False, indent=2))"
   ],
   "id": "730883179bb88375",
   "outputs": [
    {
     "name": "stderr",
     "output_type": "stream",
     "text": [
      "C:\\Users\\petyl\\OneDrive\\Desktop\\Drafts\\fisheye-jelly-pop-girls\\.venv\\Lib\\site-packages\\tqdm\\auto.py:21: TqdmWarning: IProgress not found. Please update jupyter and ipywidgets. See https://ipywidgets.readthedocs.io/en/stable/user_install.html\n",
      "  from .autonotebook import tqdm as notebook_tqdm\n"
     ]
    },
    {
     "ename": "FileNotFoundError",
     "evalue": "imagen_lab\\scoring\\weight_profiles.yaml",
     "output_type": "error",
     "traceback": [
      "\u001B[31m---------------------------------------------------------------------------\u001B[39m",
      "\u001B[31mFileNotFoundError\u001B[39m                         Traceback (most recent call last)",
      "\u001B[36mCell\u001B[39m\u001B[36m \u001B[39m\u001B[32mIn[1]\u001B[39m\u001B[32m, line 6\u001B[39m\n\u001B[32m      2\u001B[39m \u001B[38;5;28;01mimport\u001B[39;00m\u001B[38;5;250m \u001B[39m\u001B[34;01mjson\u001B[39;00m\n\u001B[32m      4\u001B[39m \u001B[38;5;28;01mfrom\u001B[39;00m\u001B[38;5;250m \u001B[39m\u001B[34;01mimagen_lab\u001B[39;00m\u001B[34;01m.\u001B[39;00m\u001B[34;01mscoring\u001B[39;00m\u001B[34;01m.\u001B[39;00m\u001B[34;01mweights_table\u001B[39;00m\u001B[38;5;250m \u001B[39m\u001B[38;5;28;01mimport\u001B[39;00m StyleMixer, WeightProfileTable\n\u001B[32m----> \u001B[39m\u001B[32m6\u001B[39m profiles = \u001B[43mWeightProfileTable\u001B[49m\u001B[43m.\u001B[49m\u001B[43mload\u001B[49m\u001B[43m(\u001B[49m\u001B[43mPath\u001B[49m\u001B[43m(\u001B[49m\u001B[33;43m'\u001B[39;49m\u001B[33;43mimagen_lab/scoring/weight_profiles.yaml\u001B[39;49m\u001B[33;43m'\u001B[39;49m\u001B[43m)\u001B[49m\u001B[43m)\u001B[49m\n\u001B[32m      7\u001B[39m components = {\u001B[33m\"\u001B[39m\u001B[33mclip\u001B[39m\u001B[33m\"\u001B[39m: \u001B[32m0.82\u001B[39m, \u001B[33m\"\u001B[39m\u001B[33mspec\u001B[39m\u001B[33m\"\u001B[39m: \u001B[32m0.68\u001B[39m, \u001B[33m\"\u001B[39m\u001B[33millu\u001B[39m\u001B[33m\"\u001B[39m: \u001B[32m0.55\u001B[39m}\n\u001B[32m      8\u001B[39m snapshots = []\n",
      "\u001B[36mFile \u001B[39m\u001B[32m~\\OneDrive\\Desktop\\Drafts\\fisheye-jelly-pop-girls\\imagen_lab\\scoring\\weights_table.py:147\u001B[39m, in \u001B[36mWeightProfileTable.load\u001B[39m\u001B[34m(cls, path, defaults, default_profile, create)\u001B[39m\n\u001B[32m    145\u001B[39m \u001B[38;5;28;01mif\u001B[39;00m \u001B[38;5;129;01mnot\u001B[39;00m path.exists():\n\u001B[32m    146\u001B[39m     \u001B[38;5;28;01mif\u001B[39;00m \u001B[38;5;129;01mnot\u001B[39;00m create:\n\u001B[32m--> \u001B[39m\u001B[32m147\u001B[39m         \u001B[38;5;28;01mraise\u001B[39;00m \u001B[38;5;167;01mFileNotFoundError\u001B[39;00m(path)\n\u001B[32m    148\u001B[39m     table = \u001B[38;5;28mcls\u001B[39m({}, path=path, defaults=defaults, default_profile=default_profile)\n\u001B[32m    149\u001B[39m     table.persist()\n",
      "\u001B[31mFileNotFoundError\u001B[39m: imagen_lab\\scoring\\weight_profiles.yaml"
     ]
    }
   ],
   "execution_count": 1
  }
 ],
 "metadata": {
  "kernelspec": {
   "display_name": "Python 3",
   "language": "python",
   "name": "python3"
  },
  "language_info": {
   "name": "python",
   "version": "3.10"
  }
 },
 "nbformat": 4,
 "nbformat_minor": 5
}
